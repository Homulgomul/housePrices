{
 "cells": [
  {
   "cell_type": "code",
   "execution_count": 13,
   "metadata": {},
   "outputs": [],
   "source": [
    "import pandas as pd\n",
    "from sklearn.model_selection import train_test_split\n",
    "from sklearn.metrics import mean_squared_error\n",
    "\n",
    "from scripts.pipeline import Pipeline"
   ]
  },
  {
   "cell_type": "code",
   "execution_count": 14,
   "metadata": {},
   "outputs": [],
   "source": [
    "# Load the data\n",
    "train_data = pd.read_csv('../data/train.csv')\n",
    "test_data = pd.read_csv('../data/test.csv')\n",
    "\n",
    "# split train data into predictors and response\n",
    "X = train_data.drop(columns=['SalePrice'])\n",
    "y = train_data['SalePrice'] \n",
    "\n",
    "#combine the data for preprocessing\n",
    "data = pd.concat([X, test_data], axis=0)\n",
    "# Preprocess the data\n",
    "data = Pipeline(data)\n",
    "\n",
    "# Split the data back into train and test, processed\n",
    "X = data[:len(train_data)]\n",
    "test = data[len(train_data):]\n",
    "#increase test index by 1\n",
    "test.index = test.index + 1\n",
    "\n",
    "# Split the data into features and response\n",
    "X_train, X_test, y_train, y_test = train_test_split(X, y, test_size=0.2, random_state=42)"
   ]
  },
  {
   "cell_type": "code",
   "execution_count": 15,
   "metadata": {},
   "outputs": [
    {
     "name": "stdout",
     "output_type": "stream",
     "text": [
      "LinearRegression MSE: 8.779615986322035e+28\n",
      "LinearRegression R^2: -1.144620939080205e+19\n",
      "RandomForestRegressor MSE: 877081940.1372654\n",
      "RandomForestRegressor R^2: 0.8856525894145889\n",
      "SVR MSE: 7858648774.72534\n",
      "SVR R^2: -0.024552093672594477\n",
      "GradientBoostingRegressor MSE: 694867156.2060844\n",
      "GradientBoostingRegressor R^2: 0.9094083957531048\n",
      "AdaBoostRegressor MSE: 1282860000.2798948\n",
      "AdaBoostRegressor R^2: 0.8327502682900435\n",
      "BaggingRegressor MSE: 1007384939.7960957\n",
      "BaggingRegressor R^2: 0.8686646548549432\n",
      "ExtraTreesRegressor MSE: 816798586.285467\n",
      "ExtraTreesRegressor R^2: 0.8935118840812633\n",
      "HistGradientBoostingRegressor MSE: 809730751.6526165\n",
      "HistGradientBoostingRegressor R^2: 0.8944333357173394\n"
     ]
    }
   ],
   "source": [
    "# try a few models\n",
    "from sklearn.linear_model import LinearRegression\n",
    "from sklearn.ensemble import RandomForestRegressor\n",
    "from sklearn.svm import SVR\n",
    "from sklearn.ensemble import GradientBoostingRegressor\n",
    "from sklearn.ensemble import AdaBoostRegressor\n",
    "from sklearn.ensemble import BaggingRegressor\n",
    "from sklearn.ensemble import ExtraTreesRegressor\n",
    "from sklearn.ensemble import HistGradientBoostingRegressor\n",
    "\n",
    "models = [\n",
    "    LinearRegression(),\n",
    "    RandomForestRegressor(),\n",
    "    SVR(),\n",
    "    GradientBoostingRegressor(),\n",
    "    AdaBoostRegressor(),\n",
    "    BaggingRegressor(),\n",
    "    ExtraTreesRegressor(),\n",
    "    HistGradientBoostingRegressor(),\n",
    "]\n",
    "\n",
    "for model in models:\n",
    "    model.fit(X_train, y_train)\n",
    "    y_pred = model.predict(X_test)\n",
    "    print(f'{model.__class__.__name__} MSE: {mean_squared_error(y_test, y_pred)}')\n",
    "    print(f'{model.__class__.__name__} R^2: {model.score(X_test, y_test)}')\n"
   ]
  }
 ],
 "metadata": {
  "kernelspec": {
   "display_name": "Python 3",
   "language": "python",
   "name": "python3"
  },
  "language_info": {
   "codemirror_mode": {
    "name": "ipython",
    "version": 3
   },
   "file_extension": ".py",
   "mimetype": "text/x-python",
   "name": "python",
   "nbconvert_exporter": "python",
   "pygments_lexer": "ipython3",
   "version": "3.11.0rc1"
  }
 },
 "nbformat": 4,
 "nbformat_minor": 2
}
