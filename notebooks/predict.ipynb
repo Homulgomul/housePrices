{
 "cells": [
  {
   "cell_type": "code",
   "execution_count": 10,
   "metadata": {},
   "outputs": [],
   "source": [
    "import pandas as pd\n",
    "from sklearn.model_selection import train_test_split\n",
    "\n",
    "from scripts.pipeline import Pipeline"
   ]
  },
  {
   "cell_type": "code",
   "execution_count": 11,
   "metadata": {},
   "outputs": [],
   "source": [
    "# Load the data\n",
    "train_data = pd.read_csv('../data/train.csv')\n",
    "test_data = pd.read_csv('../data/test.csv')\n",
    "\n",
    "# split train data into predictors and response\n",
    "X = train_data.drop(columns=['SalePrice'])\n",
    "y = train_data['SalePrice'] \n",
    "\n",
    "#combine the data for preprocessing\n",
    "data = pd.concat([X, test_data], axis=0)\n",
    "# Preprocess the data\n",
    "data = Pipeline(data)\n",
    "\n",
    "# Split the data back into train and test, processed\n",
    "X = data[:len(train_data)]\n",
    "test = data[len(train_data):]\n",
    "#increase test index by 1\n",
    "test.index += 1\n",
    "\n",
    "# Split the data into features and response\n",
    "X_train, X_test, y_train, y_test = train_test_split(X, y, test_size=0.2, random_state=42)"
   ]
  },
  {
   "cell_type": "code",
   "execution_count": 12,
   "metadata": {},
   "outputs": [],
   "source": [
    "#going with extra trees regressor\n",
    "from sklearn.ensemble import ExtraTreesRegressor\n",
    "model = ExtraTreesRegressor()\n",
    "model.fit(X_train, y_train)\n",
    "\n",
    "# Predict the test data\n",
    "y_pred = model.predict(test)\n",
    "test_results = pd.DataFrame({'Id': test.index, 'SalePrice': y_pred})\n",
    "test_results.to_csv('../outputs/ExtraTreesRegressor_test.csv', index=False)"
   ]
  },
  {
   "cell_type": "code",
   "execution_count": 13,
   "metadata": {},
   "outputs": [],
   "source": [
    "#going with gradient boosting regressor\n",
    "from sklearn.ensemble import GradientBoostingRegressor\n",
    "model = GradientBoostingRegressor()\n",
    "model.fit(X_train, y_train)\n",
    "\n",
    "# Predict the test data\n",
    "y_pred = model.predict(test)\n",
    "test_results = pd.DataFrame({'Id': test.index, 'SalePrice': y_pred})\n",
    "test_results.to_csv('../outputs/GradientBoostingRegressor_test.csv', index=False)"
   ]
  }
 ],
 "metadata": {
  "kernelspec": {
   "display_name": "Python 3",
   "language": "python",
   "name": "python3"
  },
  "language_info": {
   "codemirror_mode": {
    "name": "ipython",
    "version": 3
   },
   "file_extension": ".py",
   "mimetype": "text/x-python",
   "name": "python",
   "nbconvert_exporter": "python",
   "pygments_lexer": "ipython3",
   "version": "3.11.0rc1"
  }
 },
 "nbformat": 4,
 "nbformat_minor": 2
}
